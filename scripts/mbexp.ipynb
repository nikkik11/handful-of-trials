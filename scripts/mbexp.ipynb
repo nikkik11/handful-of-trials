{
 "cells": [
  {
   "cell_type": "markdown",
   "metadata": {},
   "source": [
    "### Create Jupyter notebook for mbexp script usage"
   ]
  },
  {
   "cell_type": "code",
   "execution_count": 1,
   "metadata": {},
   "outputs": [],
   "source": [
    "from __future__ import division\n",
    "from __future__ import print_function\n",
    "from __future__ import absolute_import\n",
    "\n",
    "import os\n",
    "import argparse\n",
    "import pprint\n",
    "\n",
    "from dotmap import DotMap"
   ]
  },
  {
   "cell_type": "code",
   "execution_count": 2,
   "metadata": {},
   "outputs": [
    {
     "name": "stderr",
     "output_type": "stream",
     "text": [
      "WARNING: Logging before flag parsing goes to stderr.\n",
      "W0711 19:44:31.311006 18580 deprecation_wrapper.py:119] From c:\\program files\\python35\\lib\\site-packages\\gpflow\\session_manager.py:28: The name tf.Session is deprecated. Please use tf.compat.v1.Session instead.\n",
      "\n",
      "W0711 19:44:31.318006 18580 deprecation_wrapper.py:119] From c:\\program files\\python35\\lib\\site-packages\\gpflow\\misc.py:24: The name tf.GraphKeys is deprecated. Please use tf.compat.v1.GraphKeys instead.\n",
      "\n"
     ]
    }
   ],
   "source": [
    "## Modified: Add path to enabling import\n",
    "import sys\n",
    "sys.path.append(r\"C:\\Users\\nikki\\OneDrive\\Research\\Continuous RL\\BAIR Handful of Trails Probabilistic Dynamics\\handful-of-trials\")\n",
    "from dmbrl.misc.MBExp import MBExperiment\n",
    "from dmbrl.controllers.MPC import MPC\n",
    "from dmbrl.config import create_config"
   ]
  },
  {
   "cell_type": "code",
   "execution_count": 3,
   "metadata": {},
   "outputs": [],
   "source": [
    "def main(env, ctrl_type, ctrl_args, overrides, logdir):\n",
    "    ctrl_args = DotMap(**{key: val for (key, val) in ctrl_args})\n",
    "    cfg = create_config(env, ctrl_type, ctrl_args, overrides, logdir)\n",
    "    cfg.pprint()\n",
    "\n",
    "    if ctrl_type == \"MPC\":\n",
    "        cfg.exp_cfg.exp_cfg.policy = MPC(cfg.ctrl_cfg)\n",
    "    exp = MBExperiment(cfg.exp_cfg)\n",
    "    os.makedirs(exp.logdir)\n",
    "    with open(os.path.join(exp.logdir, \"config.txt\"), \"w\") as f:\n",
    "        f.write(pprint.pformat(cfg.toDict()))\n",
    "\n",
    "    exp.run_experiment()"
   ]
  },
  {
   "cell_type": "code",
   "execution_count": 4,
   "metadata": {},
   "outputs": [
    {
     "name": "stdout",
     "output_type": "stream",
     "text": [
      "log\n"
     ]
    }
   ],
   "source": [
    "# Scripts that should be in if __name__ == '__main__':\n",
    "parser = argparse.ArgumentParser()\n",
    "parser.add_argument('-env', type=str, required=True,\n",
    "                        help='Environment name: select from [cartpole, reacher, pusher, halfcheetah]')\n",
    "parser.add_argument('-ca', '--ctrl_arg', action='append', nargs=2, default=[],\n",
    "                        help='Controller arguments, see https://github.com/kchua/handful-of-trials#controller-arguments')\n",
    "parser.add_argument('-o', '--override', action='append', nargs=2, default=[],\n",
    "                        help='Override default parameters, see https://github.com/kchua/handful-of-trials#overrides')\n",
    "parser.add_argument('-logdir', type=str, default='log',\n",
    "                         help='Directory to which results will be logged (default: ./log)')\n",
    "args = parser.parse_args(['-env', 'cartpole'])\n",
    "\n",
    "print(args.logdir)"
   ]
  },
  {
   "cell_type": "code",
   "execution_count": 5,
   "metadata": {
    "scrolled": false
   },
   "outputs": [
    {
     "name": "stderr",
     "output_type": "stream",
     "text": [
      "W0711 19:45:03.409286 18580 deprecation_wrapper.py:119] From C:\\Users\\nikki\\OneDrive\\Research\\Continuous RL\\BAIR Handful of Trails Probabilistic Dynamics\\handful-of-trials\\dmbrl\\config\\cartpole.py:26: The name tf.ConfigProto is deprecated. Please use tf.compat.v1.ConfigProto instead.\n",
      "\n"
     ]
    },
    {
     "name": "stdout",
     "output_type": "stream",
     "text": [
      "{'ctrl_cfg': {'env': <dmbrl.env.cartpole.CartpoleEnv object at 0x00000197FF1F15C0>,\n",
      "              'opt_cfg': {'ac_cost_fn': <function CartpoleConfigModule.ac_cost_fn at 0x000001978A4866A8>,\n",
      "                          'cfg': {'alpha': 0.1,\n",
      "                                  'max_iters': 5,\n",
      "                                  'num_elites': 40,\n",
      "                                  'popsize': 400},\n",
      "                          'mode': 'CEM',\n",
      "                          'obs_cost_fn': <function CartpoleConfigModule.obs_cost_fn at 0x000001978A486620>,\n",
      "                          'plan_hor': 25},\n",
      "              'prop_cfg': {'mode': 'TSinf',\n",
      "                           'model_init_cfg': {'model_class': <class 'dmbrl.modeling.models.BNN.BNN'>,\n",
      "                                              'model_constructor': <bound method CartpoleConfigModule.nn_constructor of <cartpole.CartpoleConfigModule object at 0x00000197F4893128>>,\n",
      "                                              'num_nets': 5},\n",
      "                           'model_train_cfg': {'epochs': 5},\n",
      "                           'npart': 20,\n",
      "                           'obs_postproc': <function CartpoleConfigModule.obs_postproc at 0x000001978A486510>,\n",
      "                           'obs_preproc': <function CartpoleConfigModule.obs_preproc at 0x000001978A486400>,\n",
      "                           'targ_proc': <function CartpoleConfigModule.targ_proc at 0x000001978A486598>}},\n",
      " 'exp_cfg': {'exp_cfg': {'nrollouts_per_iter': 1, 'ntrain_iters': 50},\n",
      "             'log_cfg': {'logdir': 'log'},\n",
      "             'sim_cfg': {'env': <dmbrl.env.cartpole.CartpoleEnv object at 0x00000197FF1F15C0>,\n",
      "                         'task_hor': 200}}}\n",
      "Created an ensemble of 5 neural networks with variance predictions.\n"
     ]
    },
    {
     "name": "stderr",
     "output_type": "stream",
     "text": [
      "W0711 19:45:03.534243 18580 deprecation_wrapper.py:119] From C:\\Users\\nikki\\OneDrive\\Research\\Continuous RL\\BAIR Handful of Trails Probabilistic Dynamics\\handful-of-trials\\dmbrl\\config\\cartpole.py:86: The name tf.train.AdamOptimizer is deprecated. Please use tf.compat.v1.train.AdamOptimizer instead.\n",
      "\n",
      "W0711 19:45:03.536244 18580 deprecation_wrapper.py:119] From C:\\Users\\nikki\\OneDrive\\Research\\Continuous RL\\BAIR Handful of Trails Probabilistic Dynamics\\handful-of-trials\\dmbrl\\modeling\\models\\BNN.py:157: The name tf.variable_scope is deprecated. Please use tf.compat.v1.variable_scope instead.\n",
      "\n",
      "W0711 19:45:03.540245 18580 deprecation_wrapper.py:119] From C:\\Users\\nikki\\OneDrive\\Research\\Continuous RL\\BAIR Handful of Trails Probabilistic Dynamics\\handful-of-trials\\dmbrl\\modeling\\utils\\TensorStandardScaler.py:22: The name tf.get_variable is deprecated. Please use tf.compat.v1.get_variable instead.\n",
      "\n",
      "W0711 19:45:04.370290 18580 deprecation.py:323] From C:\\Users\\nikki\\OneDrive\\Research\\Continuous RL\\BAIR Handful of Trails Probabilistic Dynamics\\handful-of-trials\\dmbrl\\controllers\\MPC.py:299: add_dispatch_support.<locals>.wrapper (from tensorflow.python.ops.array_ops) is deprecated and will be removed in a future version.\n",
      "Instructions for updating:\n",
      "Use tf.where in 2.0, which has the same broadcast rule as np.where\n"
     ]
    },
    {
     "name": "stdout",
     "output_type": "stream",
     "text": [
      "Created an MPC controller, prop mode TSinf, 20 particles. \n",
      "Trajectory prediction logging is disabled.\n",
      "Average action selection time:  1.038193702697754e-05\n",
      "Rollout length:  200\n"
     ]
    },
    {
     "name": "stderr",
     "output_type": "stream",
     "text": [
      "W0711 19:45:04.665248 18580 deprecation.py:323] From C:\\Users\\nikki\\OneDrive\\Research\\Continuous RL\\BAIR Handful of Trails Probabilistic Dynamics\\handful-of-trials\\dmbrl\\modeling\\utils\\TensorStandardScaler.py:47: Variable.load (from tensorflow.python.ops.variables) is deprecated and will be removed in a future version.\n",
      "Instructions for updating:\n",
      "Prefer Variable.assign which has equivalent behavior in 2.X.\n",
      "Network training: 100%|█| 5/5 [00:01<00:00,  4.31epoch(s)/s, Training loss(es)=[0.10378593 0.26518652 0.1203649  0.13610879 0.1291325 ]]\n"
     ]
    },
    {
     "name": "stdout",
     "output_type": "stream",
     "text": [
      "####################################################################\n",
      "Starting training iteration 1.\n",
      "Average action selection time:  13.736455729007721\n",
      "Rollout length:  200\n",
      "Rewards obtained: [-3.8769037195375575]\n"
     ]
    },
    {
     "name": "stderr",
     "output_type": "stream",
     "text": [
      "Network training: 100%|█| 5/5 [00:01<00:00,  2.71epoch(s)/s, Training loss(es)=[0.07406063 0.07498173 0.12235124 0.07809902 0.11440584]]\n"
     ]
    },
    {
     "name": "stdout",
     "output_type": "stream",
     "text": [
      "####################################################################\n",
      "Starting training iteration 2.\n",
      "Average action selection time:  12.321370943784714\n",
      "Rollout length:  200\n",
      "Rewards obtained: [20.219980985495102]\n"
     ]
    },
    {
     "name": "stderr",
     "output_type": "stream",
     "text": [
      "Network training: 100%|█| 5/5 [00:02<00:00,  2.03epoch(s)/s, Training loss(es)=[0.11772775 0.11034811 0.08307938 0.06800563 0.07711456]]\n"
     ]
    },
    {
     "name": "stdout",
     "output_type": "stream",
     "text": [
      "####################################################################\n",
      "Starting training iteration 3.\n",
      "Average action selection time:  12.73769831776619\n",
      "Rollout length:  200\n",
      "Rewards obtained: [51.7221806481514]\n"
     ]
    },
    {
     "name": "stderr",
     "output_type": "stream",
     "text": [
      "Network training: 100%|█| 5/5 [00:03<00:00,  1.44epoch(s)/s, Training loss(es)=[0.07004795 0.06634605 0.06660757 0.0342932  0.06893971]]\n"
     ]
    },
    {
     "name": "stdout",
     "output_type": "stream",
     "text": [
      "####################################################################\n",
      "Starting training iteration 4.\n",
      "Average action selection time:  11.855412489175796\n",
      "Rollout length:  200\n",
      "Rewards obtained: [69.413018961806]\n"
     ]
    },
    {
     "name": "stderr",
     "output_type": "stream",
     "text": [
      "Network training: 100%|█| 5/5 [00:04<00:00,  1.19epoch(s)/s, Training loss(es)=[0.02946441 0.03169902 0.03734872 0.0291457  0.0467538 ]]\n"
     ]
    },
    {
     "name": "stdout",
     "output_type": "stream",
     "text": [
      "####################################################################\n",
      "Starting training iteration 5.\n",
      "Average action selection time:  11.861282452344895\n",
      "Rollout length:  200\n",
      "Rewards obtained: [112.26909341757793]\n"
     ]
    },
    {
     "name": "stderr",
     "output_type": "stream",
     "text": [
      "Network training: 100%|█| 5/5 [00:04<00:00,  1.00epoch(s)/s, Training loss(es)=[0.03489069 0.02968837 0.02427937 0.02544565 0.02099996]]\n"
     ]
    },
    {
     "name": "stdout",
     "output_type": "stream",
     "text": [
      "####################################################################\n",
      "Starting training iteration 6.\n",
      "Average action selection time:  11.990425472259522\n",
      "Rollout length:  200\n",
      "Rewards obtained: [176.6130291637695]\n"
     ]
    },
    {
     "name": "stderr",
     "output_type": "stream",
     "text": [
      "Network training: 100%|█| 5/5 [00:05<00:00,  1.11s/epoch(s), Training loss(es)=[0.01674126 0.02838806 0.01295919 0.01545716 0.011795  ]]\n"
     ]
    },
    {
     "name": "stdout",
     "output_type": "stream",
     "text": [
      "####################################################################\n",
      "Starting training iteration 7.\n",
      "Average action selection time:  11.965282428264619\n",
      "Rollout length:  200\n",
      "Rewards obtained: [174.35330452396812]\n"
     ]
    },
    {
     "name": "stderr",
     "output_type": "stream",
     "text": [
      "Network training: 100%|█| 5/5 [00:06<00:00,  1.28s/epoch(s), Training loss(es)=[0.03076342 0.01796545 0.01660526 0.00803022 0.00622567]]\n"
     ]
    },
    {
     "name": "stdout",
     "output_type": "stream",
     "text": [
      "####################################################################\n",
      "Starting training iteration 8.\n",
      "Average action selection time:  11.635914719104766\n",
      "Rollout length:  200\n",
      "Rewards obtained: [179.7244281560671]\n"
     ]
    },
    {
     "name": "stderr",
     "output_type": "stream",
     "text": [
      "Network training: 100%|█| 5/5 [00:07<00:00,  1.48s/epoch(s), Training loss(es)=[0.01749843 0.01784406 0.02311677 0.00843546 0.00955768]]\n"
     ]
    },
    {
     "name": "stdout",
     "output_type": "stream",
     "text": [
      "####################################################################\n",
      "Starting training iteration 9.\n",
      "Average action selection time:  11.736884706020355\n",
      "Rollout length:  200\n",
      "Rewards obtained: [178.3578887638384]\n"
     ]
    },
    {
     "name": "stderr",
     "output_type": "stream",
     "text": [
      "Network training: 100%|█| 5/5 [00:08<00:00,  1.63s/epoch(s), Training loss(es)=[0.01595934 0.01116514 0.01208019 0.00868518 0.00526789]]\n"
     ]
    },
    {
     "name": "stdout",
     "output_type": "stream",
     "text": [
      "####################################################################\n",
      "Starting training iteration 10.\n",
      "Average action selection time:  11.77713500380516\n",
      "Rollout length:  200\n",
      "Rewards obtained: [174.15222148082387]\n"
     ]
    },
    {
     "name": "stderr",
     "output_type": "stream",
     "text": [
      "Network training: 100%|█| 5/5 [00:08<00:00,  1.78s/epoch(s), Training loss(es)=[0.01025646 0.00680858 0.00512501 0.01748903 0.01026723]]\n"
     ]
    },
    {
     "name": "stdout",
     "output_type": "stream",
     "text": [
      "####################################################################\n",
      "Starting training iteration 11.\n",
      "Average action selection time:  11.777622311115264\n",
      "Rollout length:  200\n",
      "Rewards obtained: [179.31230887955752]\n"
     ]
    },
    {
     "name": "stderr",
     "output_type": "stream",
     "text": [
      "Network training: 100%|█| 5/5 [00:09<00:00,  1.90s/epoch(s), Training loss(es)=[0.00887614 0.00431168 0.00994217 0.01605024 0.01014744]]\n"
     ]
    },
    {
     "name": "stdout",
     "output_type": "stream",
     "text": [
      "####################################################################\n",
      "Starting training iteration 12.\n",
      "Average action selection time:  11.77176747083664\n",
      "Rollout length:  200\n",
      "Rewards obtained: [180.79494011831127]\n"
     ]
    },
    {
     "name": "stderr",
     "output_type": "stream",
     "text": [
      "Network training: 100%|█| 5/5 [00:10<00:00,  2.10s/epoch(s), Training loss(es)=[0.00684343 0.01065902 0.0068337  0.00712681 0.01422941]]\n"
     ]
    },
    {
     "name": "stdout",
     "output_type": "stream",
     "text": [
      "####################################################################\n",
      "Starting training iteration 13.\n",
      "Average action selection time:  11.728742551803588\n",
      "Rollout length:  200\n",
      "Rewards obtained: [177.72870414522745]\n"
     ]
    },
    {
     "name": "stderr",
     "output_type": "stream",
     "text": [
      "Network training: 100%|█| 5/5 [00:11<00:00,  2.26s/epoch(s), Training loss(es)=[0.00236142 0.01495191 0.01068011 0.0039338  0.00783255]]\n"
     ]
    },
    {
     "name": "stdout",
     "output_type": "stream",
     "text": [
      "####################################################################\n",
      "Starting training iteration 14.\n",
      "Average action selection time:  11.801369843482972\n",
      "Rollout length:  200\n",
      "Rewards obtained: [178.29184484783946]\n"
     ]
    },
    {
     "name": "stderr",
     "output_type": "stream",
     "text": [
      "Network training: 100%|█| 5/5 [00:11<00:00,  2.36s/epoch(s), Training loss(es)=[0.01112888 0.00536569 0.00711572 0.00848311 0.00414446]]\n"
     ]
    },
    {
     "name": "stdout",
     "output_type": "stream",
     "text": [
      "####################################################################\n",
      "Starting training iteration 15.\n",
      "Average action selection time:  11.741109828948975\n",
      "Rollout length:  200\n",
      "Rewards obtained: [178.9297156855787]\n"
     ]
    },
    {
     "name": "stderr",
     "output_type": "stream",
     "text": [
      "Network training: 100%|█| 5/5 [00:12<00:00,  2.53s/epoch(s), Training loss(es)=[0.00936866 0.00489533 0.00415549 0.00578389 0.00437103]]\n"
     ]
    },
    {
     "name": "stdout",
     "output_type": "stream",
     "text": [
      "####################################################################\n",
      "Starting training iteration 16.\n",
      "Average action selection time:  11.74957486152649\n",
      "Rollout length:  200\n",
      "Rewards obtained: [179.62415321716185]\n"
     ]
    },
    {
     "name": "stderr",
     "output_type": "stream",
     "text": [
      "Network training: 100%|█| 5/5 [00:13<00:00,  2.68s/epoch(s), Training loss(es)=[0.00531042 0.01200013 0.01152531 0.01716687 0.00354734]]\n"
     ]
    },
    {
     "name": "stdout",
     "output_type": "stream",
     "text": [
      "####################################################################\n",
      "Starting training iteration 17.\n",
      "Average action selection time:  11.774714841842652\n",
      "Rollout length:  200\n",
      "Rewards obtained: [179.24464396208245]\n"
     ]
    },
    {
     "name": "stderr",
     "output_type": "stream",
     "text": [
      "Network training: 100%|█| 5/5 [00:14<00:00,  2.82s/epoch(s), Training loss(es)=[0.00607342 0.00565643 0.01270134 0.0053543  0.00714281]]\n"
     ]
    },
    {
     "name": "stdout",
     "output_type": "stream",
     "text": [
      "####################################################################\n",
      "Starting training iteration 18.\n",
      "Average action selection time:  11.784169861078261\n",
      "Rollout length:  200\n",
      "Rewards obtained: [178.66115837599654]\n"
     ]
    },
    {
     "name": "stderr",
     "output_type": "stream",
     "text": [
      "Network training: 100%|█| 5/5 [00:14<00:00,  2.97s/epoch(s), Training loss(es)=[0.00672576 0.00366883 0.00237768 0.00736067 0.00489051]]\n"
     ]
    },
    {
     "name": "stdout",
     "output_type": "stream",
     "text": [
      "####################################################################\n",
      "Starting training iteration 19.\n",
      "Average action selection time:  11.760402307510375\n",
      "Rollout length:  200\n",
      "Rewards obtained: [176.60877350597164]\n"
     ]
    },
    {
     "name": "stderr",
     "output_type": "stream",
     "text": [
      "Network training: 100%|█| 5/5 [00:15<00:00,  3.19s/epoch(s), Training loss(es)=[0.01115747 0.00228631 0.00219438 0.00911918 0.00725891]]\n"
     ]
    },
    {
     "name": "stdout",
     "output_type": "stream",
     "text": [
      "####################################################################\n",
      "Starting training iteration 20.\n",
      "Average action selection time:  11.808259714841842\n",
      "Rollout length:  200\n",
      "Rewards obtained: [177.09782897961472]\n"
     ]
    },
    {
     "name": "stderr",
     "output_type": "stream",
     "text": [
      "Network training: 100%|█| 5/5 [00:16<00:00,  3.28s/epoch(s), Training loss(es)=[0.00148604 0.00653479 0.00184961 0.00800204 0.00883006]]\n"
     ]
    },
    {
     "name": "stdout",
     "output_type": "stream",
     "text": [
      "####################################################################\n",
      "Starting training iteration 21.\n",
      "Average action selection time:  11.778525013923645\n",
      "Rollout length:  200\n",
      "Rewards obtained: [179.67776520522145]\n"
     ]
    },
    {
     "name": "stderr",
     "output_type": "stream",
     "text": [
      "Network training: 100%|█| 5/5 [00:17<00:00,  3.47s/epoch(s), Training loss(es)=[0.00449633 0.00544174 0.00307561 0.00328881 0.00329454]]\n"
     ]
    },
    {
     "name": "stdout",
     "output_type": "stream",
     "text": [
      "####################################################################\n",
      "Starting training iteration 22.\n",
      "Average action selection time:  11.986372430324554\n",
      "Rollout length:  200\n",
      "Rewards obtained: [180.07239449156563]\n"
     ]
    },
    {
     "name": "stderr",
     "output_type": "stream",
     "text": [
      "Network training: 100%|█| 5/5 [00:18<00:00,  3.63s/epoch(s), Training loss(es)=[0.00386079 0.006463   0.00738668 0.00687099 0.00443029]]\n"
     ]
    },
    {
     "name": "stdout",
     "output_type": "stream",
     "text": [
      "####################################################################\n",
      "Starting training iteration 23.\n",
      "Average action selection time:  11.89930743098259\n",
      "Rollout length:  200\n",
      "Rewards obtained: [178.41673669262667]\n"
     ]
    },
    {
     "name": "stderr",
     "output_type": "stream",
     "text": [
      "Network training: 100%|█| 5/5 [00:19<00:00,  3.92s/epoch(s), Training loss(es)=[0.00169328 0.00329174 0.00428568 0.00640184 0.00673704]]\n"
     ]
    },
    {
     "name": "stdout",
     "output_type": "stream",
     "text": [
      "####################################################################\n",
      "Starting training iteration 24.\n",
      "Average action selection time:  12.243512445688248\n",
      "Rollout length:  200\n",
      "Rewards obtained: [178.51551313271327]\n"
     ]
    },
    {
     "name": "stderr",
     "output_type": "stream",
     "text": [
      "Network training: 100%|█| 5/5 [00:20<00:00,  4.04s/epoch(s), Training loss(es)=[0.00397843 0.00539118 0.00444617 0.01011    0.00545614]]\n"
     ]
    },
    {
     "name": "stdout",
     "output_type": "stream",
     "text": [
      "####################################################################\n",
      "Starting training iteration 25.\n",
      "Average action selection time:  12.239629770517348\n",
      "Rollout length:  200\n",
      "Rewards obtained: [178.0325438485108]\n"
     ]
    },
    {
     "name": "stderr",
     "output_type": "stream",
     "text": [
      "Network training: 100%|█| 5/5 [00:20<00:00,  4.19s/epoch(s), Training loss(es)=[0.00687864 0.00273266 0.00101623 0.00243873 0.00600219]]\n"
     ]
    },
    {
     "name": "stdout",
     "output_type": "stream",
     "text": [
      "####################################################################\n",
      "Starting training iteration 26.\n",
      "Average action selection time:  12.340151165723801\n",
      "Rollout length:  200\n",
      "Rewards obtained: [177.49215563485473]\n"
     ]
    },
    {
     "name": "stderr",
     "output_type": "stream",
     "text": [
      "Network training: 100%|█| 5/5 [00:22<00:00,  4.45s/epoch(s), Training loss(es)=[0.00470018 0.00517969 0.00306623 0.00449306 0.0024375 ]]\n"
     ]
    },
    {
     "name": "stdout",
     "output_type": "stream",
     "text": [
      "####################################################################\n",
      "Starting training iteration 27.\n",
      "Average action selection time:  12.135524045228959\n",
      "Rollout length:  200\n",
      "Rewards obtained: [177.26517674776986]\n"
     ]
    },
    {
     "name": "stderr",
     "output_type": "stream",
     "text": [
      "Network training: 100%|█| 5/5 [00:22<00:00,  4.45s/epoch(s), Training loss(es)=[0.00693139 0.00169146 0.0022152  0.00479658 0.0071864 ]]\n"
     ]
    },
    {
     "name": "stdout",
     "output_type": "stream",
     "text": [
      "####################################################################\n",
      "Starting training iteration 28.\n",
      "Average action selection time:  12.54420538544655\n",
      "Rollout length:  200\n",
      "Rewards obtained: [178.94473310295982]\n"
     ]
    },
    {
     "name": "stderr",
     "output_type": "stream",
     "text": [
      "Network training: 100%|█| 5/5 [00:23<00:00,  4.77s/epoch(s), Training loss(es)=[0.00141255 0.00649136 0.00474496 0.00364993 0.00246121]]\n"
     ]
    },
    {
     "name": "stdout",
     "output_type": "stream",
     "text": [
      "####################################################################\n",
      "Starting training iteration 29.\n",
      "Average action selection time:  12.53369913816452\n",
      "Rollout length:  200\n",
      "Rewards obtained: [179.28243502728415]\n"
     ]
    },
    {
     "name": "stderr",
     "output_type": "stream",
     "text": [
      "Network training: 100%|█| 5/5 [00:30<00:00,  6.02s/epoch(s), Training loss(es)=[0.00363577 0.00421089 0.0018493  0.0025905  0.00427489]]\n"
     ]
    },
    {
     "name": "stdout",
     "output_type": "stream",
     "text": [
      "####################################################################\n",
      "Starting training iteration 30.\n",
      "Average action selection time:  12.598373117446899\n",
      "Rollout length:  200\n",
      "Rewards obtained: [178.3250505857505]\n"
     ]
    },
    {
     "name": "stderr",
     "output_type": "stream",
     "text": [
      "Network training: 100%|█| 5/5 [00:25<00:00,  5.04s/epoch(s), Training loss(es)=[0.00229986 0.00218641 0.00599034 0.00493081 0.00393939]]\n"
     ]
    },
    {
     "name": "stdout",
     "output_type": "stream",
     "text": [
      "####################################################################\n",
      "Starting training iteration 31.\n",
      "Average action selection time:  25.126860496997832\n",
      "Rollout length:  200\n",
      "Rewards obtained: [180.3905972633863]\n"
     ]
    },
    {
     "name": "stderr",
     "output_type": "stream",
     "text": [
      "Network training: 100%|█| 5/5 [00:25<00:00,  5.06s/epoch(s), Training loss(es)=[0.00334365 0.00326542 0.00341192 0.00103449 0.00433358]]\n"
     ]
    },
    {
     "name": "stdout",
     "output_type": "stream",
     "text": [
      "####################################################################\n",
      "Starting training iteration 32.\n",
      "Average action selection time:  12.895799214839935\n",
      "Rollout length:  200\n",
      "Rewards obtained: [179.27526672318766]\n"
     ]
    },
    {
     "name": "stderr",
     "output_type": "stream",
     "text": [
      "Network training: 100%|█| 5/5 [00:26<00:00,  5.22s/epoch(s), Training loss(es)=[0.0033353  0.00150297 0.00617917 0.00144197 0.0025508 ]]\n"
     ]
    },
    {
     "name": "stdout",
     "output_type": "stream",
     "text": [
      "####################################################################\n",
      "Starting training iteration 33.\n",
      "Average action selection time:  12.264479835033416\n",
      "Rollout length:  200\n",
      "Rewards obtained: [178.443759411797]\n"
     ]
    },
    {
     "name": "stderr",
     "output_type": "stream",
     "text": [
      "Network training: 100%|█| 5/5 [00:27<00:00,  5.48s/epoch(s), Training loss(es)=[0.00080116 0.00219635 0.00504931 0.00034476 0.00369206]]\n"
     ]
    },
    {
     "name": "stdout",
     "output_type": "stream",
     "text": [
      "####################################################################\n",
      "Starting training iteration 34.\n",
      "Average action selection time:  12.579324759244919\n",
      "Rollout length:  200\n",
      "Rewards obtained: [180.62403899681604]\n"
     ]
    },
    {
     "name": "stderr",
     "output_type": "stream",
     "text": [
      "Network training: 100%|█| 5/5 [00:28<00:00,  5.62s/epoch(s), Training loss(es)=[0.00257668 0.00166167 0.00237535 0.00310543 0.00102529]]\n"
     ]
    },
    {
     "name": "stdout",
     "output_type": "stream",
     "text": [
      "####################################################################\n",
      "Starting training iteration 35.\n",
      "Average action selection time:  12.627987443208694\n",
      "Rollout length:  200\n",
      "Rewards obtained: [178.33483030516652]\n"
     ]
    },
    {
     "name": "stderr",
     "output_type": "stream",
     "text": [
      "Network training: 100%|█| 5/5 [00:29<00:00,  5.83s/epoch(s), Training loss(es)=[0.00263799 0.00259511 0.00238426 0.00466183 0.00691322]]\n"
     ]
    },
    {
     "name": "stdout",
     "output_type": "stream",
     "text": [
      "####################################################################\n",
      "Starting training iteration 36.\n",
      "Average action selection time:  12.554769866466522\n",
      "Rollout length:  200\n",
      "Rewards obtained: [180.4034630303342]\n"
     ]
    },
    {
     "name": "stderr",
     "output_type": "stream",
     "text": [
      "Network training: 100%|█| 5/5 [00:28<00:00,  5.75s/epoch(s), Training loss(es)=[0.00515158 0.00218013 0.00106415 0.0055659  0.00246388]]\n"
     ]
    },
    {
     "name": "stdout",
     "output_type": "stream",
     "text": [
      "####################################################################\n",
      "Starting training iteration 37.\n",
      "Average action selection time:  12.277222448587418\n",
      "Rollout length:  200\n",
      "Rewards obtained: [177.9887988011594]\n"
     ]
    },
    {
     "name": "stderr",
     "output_type": "stream",
     "text": [
      "Network training: 100%|█| 5/5 [00:31<00:00,  6.28s/epoch(s), Training loss(es)=[0.00399167 0.00665522 0.00408435 0.00129599 0.00394053]]\n"
     ]
    },
    {
     "name": "stdout",
     "output_type": "stream",
     "text": [
      "####################################################################\n",
      "Starting training iteration 38.\n",
      "Average action selection time:  12.401777007579803\n",
      "Rollout length:  200\n",
      "Rewards obtained: [178.46178634860115]\n"
     ]
    },
    {
     "name": "stderr",
     "output_type": "stream",
     "text": [
      "Network training: 100%|█| 5/5 [00:30<00:00,  6.09s/epoch(s), Training loss(es)=[0.00198626 0.00268512 0.0046156  0.00435216 0.00160944]]\n"
     ]
    },
    {
     "name": "stdout",
     "output_type": "stream",
     "text": [
      "####################################################################\n",
      "Starting training iteration 39.\n",
      "Average action selection time:  12.361807347536088\n",
      "Rollout length:  200\n",
      "Rewards obtained: [178.92249590103629]\n"
     ]
    },
    {
     "name": "stderr",
     "output_type": "stream",
     "text": [
      "Network training: 100%|█| 5/5 [00:36<00:00,  7.28s/epoch(s), Training loss(es)=[0.00321079 0.00070057 0.00123063 0.00286844 0.00385077]]\n"
     ]
    },
    {
     "name": "stdout",
     "output_type": "stream",
     "text": [
      "####################################################################\n",
      "Starting training iteration 40.\n",
      "Average action selection time:  12.902597204446792\n",
      "Rollout length:  200\n",
      "Rewards obtained: [178.84163282416117]\n"
     ]
    },
    {
     "name": "stderr",
     "output_type": "stream",
     "text": [
      "Network training: 100%|█| 5/5 [00:34<00:00,  6.83s/epoch(s), Training loss(es)=[0.00350163 0.00114898 0.00229914 0.00233377 0.00238032]]\n"
     ]
    },
    {
     "name": "stdout",
     "output_type": "stream",
     "text": [
      "####################################################################\n",
      "Starting training iteration 41.\n",
      "Average action selection time:  12.300237728357315\n",
      "Rollout length:  200\n",
      "Rewards obtained: [179.66496088941054]\n"
     ]
    },
    {
     "name": "stderr",
     "output_type": "stream",
     "text": [
      "Network training: 100%|█| 5/5 [00:32<00:00,  6.45s/epoch(s), Training loss(es)=[0.00482883 0.00107592 0.00454819 0.00227325 0.00328707]]\n"
     ]
    },
    {
     "name": "stdout",
     "output_type": "stream",
     "text": [
      "####################################################################\n",
      "Starting training iteration 42.\n",
      "Average action selection time:  12.00582762002945\n",
      "Rollout length:  200\n",
      "Rewards obtained: [181.39600301368606]\n"
     ]
    },
    {
     "name": "stderr",
     "output_type": "stream",
     "text": [
      "Network training: 100%|█| 5/5 [00:32<00:00,  6.59s/epoch(s), Training loss(es)=[0.00080397 0.00086973 0.00231336 0.00580517 0.00373523]]\n"
     ]
    },
    {
     "name": "stdout",
     "output_type": "stream",
     "text": [
      "####################################################################\n",
      "Starting training iteration 43.\n",
      "Average action selection time:  12.061849744319916\n",
      "Rollout length:  200\n",
      "Rewards obtained: [179.02295381770716]\n"
     ]
    },
    {
     "name": "stderr",
     "output_type": "stream",
     "text": [
      "Network training: 100%|█| 5/5 [00:33<00:00,  6.72s/epoch(s), Training loss(es)=[0.00095394 0.00106664 0.00065809 0.00324447 0.00054229]]\n"
     ]
    },
    {
     "name": "stdout",
     "output_type": "stream",
     "text": [
      "####################################################################\n",
      "Starting training iteration 44.\n",
      "Average action selection time:  12.089397497177124\n",
      "Rollout length:  200\n",
      "Rewards obtained: [181.26140929855842]\n"
     ]
    },
    {
     "name": "stderr",
     "output_type": "stream",
     "text": [
      "Network training: 100%|█| 5/5 [00:34<00:00,  6.87s/epoch(s), Training loss(es)=[0.00289725 0.00536024 0.00103441 0.00581738 0.00053907]]\n"
     ]
    },
    {
     "name": "stdout",
     "output_type": "stream",
     "text": [
      "####################################################################\n",
      "Starting training iteration 45.\n",
      "Average action selection time:  12.07959485411644\n",
      "Rollout length:  200\n",
      "Rewards obtained: [179.17390149279527]\n"
     ]
    },
    {
     "name": "stderr",
     "output_type": "stream",
     "text": [
      "Network training: 100%|█| 5/5 [00:35<00:00,  7.07s/epoch(s), Training loss(es)=[0.001276   0.00186882 0.00090243 0.00279869 0.00454698]]\n"
     ]
    },
    {
     "name": "stdout",
     "output_type": "stream",
     "text": [
      "####################################################################\n",
      "Starting training iteration 46.\n",
      "Average action selection time:  12.134840141534806\n",
      "Rollout length:  200\n",
      "Rewards obtained: [180.54231878761652]\n"
     ]
    },
    {
     "name": "stderr",
     "output_type": "stream",
     "text": [
      "Network training: 100%|█| 5/5 [00:35<00:00,  7.19s/epoch(s), Training loss(es)=[0.00142743 0.00373493 0.00277278 0.00335869 0.00126619]]\n"
     ]
    },
    {
     "name": "stdout",
     "output_type": "stream",
     "text": [
      "####################################################################\n",
      "Starting training iteration 47.\n",
      "Average action selection time:  12.036594965457915\n",
      "Rollout length:  200\n",
      "Rewards obtained: [178.78708067221362]\n"
     ]
    },
    {
     "name": "stderr",
     "output_type": "stream",
     "text": [
      "Network training: 100%|█| 5/5 [00:36<00:00,  7.33s/epoch(s), Training loss(es)=[0.0043858  0.00094458 0.00337754 0.00498425 0.00607303]]\n"
     ]
    },
    {
     "name": "stdout",
     "output_type": "stream",
     "text": [
      "####################################################################\n",
      "Starting training iteration 48.\n",
      "Average action selection time:  12.06130484700203\n",
      "Rollout length:  200\n",
      "Rewards obtained: [179.61766125594073]\n"
     ]
    },
    {
     "name": "stderr",
     "output_type": "stream",
     "text": [
      "Network training: 100%|█| 5/5 [00:37<00:00,  7.52s/epoch(s), Training loss(es)=[0.00201228 0.00459689 0.00132308 0.00253338 0.00093703]]\n"
     ]
    },
    {
     "name": "stdout",
     "output_type": "stream",
     "text": [
      "####################################################################\n",
      "Starting training iteration 49.\n",
      "Average action selection time:  12.050632368326188\n",
      "Rollout length:  200\n",
      "Rewards obtained: [180.55533576595124]\n"
     ]
    },
    {
     "name": "stderr",
     "output_type": "stream",
     "text": [
      "Network training: 100%|█| 5/5 [00:37<00:00,  7.58s/epoch(s), Training loss(es)=[0.00257839 0.00203296 0.0007824  0.0019741  0.00358402]]\n"
     ]
    },
    {
     "name": "stdout",
     "output_type": "stream",
     "text": [
      "####################################################################\n",
      "Starting training iteration 50.\n",
      "Average action selection time:  12.06526983976364\n",
      "Rollout length:  200\n",
      "Rewards obtained: [180.01529070831782]\n"
     ]
    }
   ],
   "source": [
    "main(args.env, \"MPC\", args.ctrl_arg, args.override, args.logdir)"
   ]
  }
 ],
 "metadata": {
  "kernelspec": {
   "display_name": "Python 3",
   "language": "python",
   "name": "python3"
  },
  "language_info": {
   "codemirror_mode": {
    "name": "ipython",
    "version": 3
   },
   "file_extension": ".py",
   "mimetype": "text/x-python",
   "name": "python",
   "nbconvert_exporter": "python",
   "pygments_lexer": "ipython3",
   "version": "3.5.4"
  }
 },
 "nbformat": 4,
 "nbformat_minor": 2
}
