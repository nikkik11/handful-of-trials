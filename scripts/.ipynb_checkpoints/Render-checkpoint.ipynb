{
 "cells": [
  {
   "cell_type": "markdown",
   "metadata": {},
   "source": [
    "### Create Jupyter notebook for render script usage for testing"
   ]
  },
  {
   "cell_type": "code",
   "execution_count": 1,
   "metadata": {},
   "outputs": [],
   "source": [
    "from __future__ import division\n",
    "from __future__ import print_function\n",
    "from __future__ import absolute_import\n",
    "\n",
    "import os\n",
    "import argparse\n",
    "import pprint\n",
    "\n",
    "from dotmap import DotMap"
   ]
  },
  {
   "cell_type": "code",
   "execution_count": 2,
   "metadata": {},
   "outputs": [
    {
     "name": "stderr",
     "output_type": "stream",
     "text": [
      "WARNING: Logging before flag parsing goes to stderr.\n",
      "W0718 21:55:37.395367  3728 deprecation_wrapper.py:119] From c:\\program files\\python36\\lib\\site-packages\\gpflow\\session_manager.py:31: The name tf.Session is deprecated. Please use tf.compat.v1.Session instead.\n",
      "\n",
      "W0718 21:55:37.402378  3728 deprecation_wrapper.py:119] From c:\\program files\\python36\\lib\\site-packages\\gpflow\\misc.py:27: The name tf.GraphKeys is deprecated. Please use tf.compat.v1.GraphKeys instead.\n",
      "\n",
      "W0718 21:55:37.518404  3728 deprecation_wrapper.py:119] From c:\\program files\\python36\\lib\\site-packages\\gpflow\\saver\\coders.py:80: The name tf.data.Iterator is deprecated. Please use tf.compat.v1.data.Iterator instead.\n",
      "\n"
     ]
    }
   ],
   "source": [
    "## Modified: Add path to enabling import\n",
    "import sys\n",
    "sys.path.append(r\"C:\\Users\\nikki\\OneDrive\\Research\\Continuous RL\\BAIR Handful of Trails Probabilistic Dynamics\\handful-of-trials\")\n",
    "from dmbrl.misc.MBExp import MBExperiment\n",
    "from dmbrl.controllers.MPC import MPC\n",
    "from dmbrl.config import create_config"
   ]
  },
  {
   "cell_type": "code",
   "execution_count": 3,
   "metadata": {},
   "outputs": [],
   "source": [
    "def main(env, ctrl_type, ctrl_args, overrides, model_dir, logdir):\n",
    "    ctrl_args = DotMap(**{key: val for (key, val) in ctrl_args})\n",
    "\n",
    "    overrides.append([\"ctrl_cfg.prop_cfg.model_init_cfg.model_dir\", model_dir])\n",
    "    overrides.append([\"ctrl_cfg.prop_cfg.model_init_cfg.load_model\", \"True\"])\n",
    "    overrides.append([\"ctrl_cfg.prop_cfg.model_pretrained\", \"True\"])\n",
    "    overrides.append([\"exp_cfg.exp_cfg.ninit_rollouts\", \"0\"])\n",
    "    overrides.append([\"exp_cfg.exp_cfg.ntrain_iters\", \"1\"])\n",
    "    #overrides.append([\"exp_cfg.log_cfg.nrecord\", \"1\"])\n",
    "\n",
    "    cfg = create_config(env, ctrl_type, ctrl_args, overrides, logdir)\n",
    "    cfg.pprint()\n",
    "\n",
    "    if ctrl_type == \"MPC\":\n",
    "        cfg.exp_cfg.exp_cfg.policy = MPC(cfg.ctrl_cfg)\n",
    "    exp = MBExperiment(cfg.exp_cfg)\n",
    "\n",
    "    os.makedirs(exp.logdir)\n",
    "    with open(os.path.join(exp.logdir, \"config.txt\"), \"w\") as f:\n",
    "        f.write(pprint.pformat(cfg.toDict()))\n",
    "\n",
    "    exp.run_experiment()"
   ]
  },
  {
   "cell_type": "code",
   "execution_count": 4,
   "metadata": {},
   "outputs": [
    {
     "name": "stdout",
     "output_type": "stream",
     "text": [
      "Scripts Argument:\n",
      " Namespace(ctrl_arg=[], env='cartpole', logdir='./CartpoleTestLog', model_dir='C:\\\\Users\\\\nikki\\\\OneDrive\\\\Research\\\\Continuous RL\\\\BAIR Handful of Trails Probabilistic Dynamics\\\\handful-of-trials\\\\scripts\\\\CartpoleTrainLog\\\\2019-07-11--19_45_04', override=[])\n"
     ]
    }
   ],
   "source": [
    "# Scripts that should be in if __name__ == '__main__':\n",
    "parser = argparse.ArgumentParser()\n",
    "parser.add_argument('-env', type=str, required=True)\n",
    "parser.add_argument('-ca', '--ctrl_arg', action='append', nargs=2, default=[])\n",
    "parser.add_argument('-o', '--override', action='append', nargs=2, default=[])\n",
    "parser.add_argument('-model-dir', type=str, required=True)\n",
    "parser.add_argument('-logdir', type=str, required=True)\n",
    "args = parser.parse_args(['-env', 'cartpole', '-model-dir', r'C:\\Users\\nikki\\OneDrive\\Research\\Continuous RL\\BAIR Handful of Trails Probabilistic Dynamics\\handful-of-trials\\scripts\\CartpoleTrainLog\\2019-07-11--19_45_04', '-logdir', './CartpoleTestLog'])\n",
    "print(\"Scripts Argument:\\n\", args)"
   ]
  },
  {
   "cell_type": "code",
   "execution_count": 5,
   "metadata": {},
   "outputs": [
    {
     "name": "stderr",
     "output_type": "stream",
     "text": [
      "W0718 21:55:44.951182  3728 deprecation_wrapper.py:119] From C:\\Users\\nikki\\OneDrive\\Research\\Continuous RL\\BAIR Handful of Trails Probabilistic Dynamics\\handful-of-trials\\dmbrl\\config\\cartpole.py:26: The name tf.ConfigProto is deprecated. Please use tf.compat.v1.ConfigProto instead.\n",
      "\n"
     ]
    },
    {
     "name": "stdout",
     "output_type": "stream",
     "text": [
      "{'ctrl_cfg': {'env': <dmbrl.env.cartpole.CartpoleEnv object at 0x00000201CF114A90>,\n",
      "              'opt_cfg': {'ac_cost_fn': <function CartpoleConfigModule.ac_cost_fn at 0x00000201CF215B70>,\n",
      "                          'cfg': {'alpha': 0.1,\n",
      "                                  'max_iters': 5,\n",
      "                                  'num_elites': 40,\n",
      "                                  'popsize': 400},\n",
      "                          'mode': 'CEM',\n",
      "                          'obs_cost_fn': <function CartpoleConfigModule.obs_cost_fn at 0x00000201CF215AE8>,\n",
      "                          'plan_hor': 25},\n",
      "              'prop_cfg': {'mode': 'TSinf',\n",
      "                           'model_init_cfg': {'load_model': True,\n",
      "                                              'model_class': <class 'dmbrl.modeling.models.BNN.BNN'>,\n",
      "                                              'model_constructor': <bound method CartpoleConfigModule.nn_constructor of <cartpole.CartpoleConfigModule object at 0x00000201CF114A20>>,\n",
      "                                              'model_dir': 'C:\\\\Users\\\\nikki\\\\OneDrive\\\\Research\\\\Continuous '\n",
      "                                                           'RL\\\\BAIR Handful '\n",
      "                                                           'of Trails '\n",
      "                                                           'Probabilistic '\n",
      "                                                           'Dynamics\\\\handful-of-trials\\\\scripts\\\\CartpoleTrainLog\\\\2019-07-11--19_45_04',\n",
      "                                              'num_nets': 5},\n",
      "                           'model_pretrained': True,\n",
      "                           'model_train_cfg': {'epochs': 5},\n",
      "                           'npart': 20,\n",
      "                           'obs_postproc': <function CartpoleConfigModule.obs_postproc at 0x00000201CF2159D8>,\n",
      "                           'obs_preproc': <function CartpoleConfigModule.obs_preproc at 0x00000201CF215620>,\n",
      "                           'targ_proc': <function CartpoleConfigModule.targ_proc at 0x00000201CF215A60>}},\n",
      " 'exp_cfg': {'exp_cfg': {'ninit_rollouts': 0,\n",
      "                         'nrollouts_per_iter': 1,\n",
      "                         'ntrain_iters': 1},\n",
      "             'log_cfg': {'logdir': './CartpoleTestLog', 'nrecord': 1},\n",
      "             'sim_cfg': {'env': <dmbrl.env.cartpole.CartpoleEnv object at 0x00000201CF114A90>,\n",
      "                         'task_hor': 200}}}\n",
      "Model loaded from C:\\Users\\nikki\\OneDrive\\Research\\Continuous RL\\BAIR Handful of Trails Probabilistic Dynamics\\handful-of-trials\\scripts\\CartpoleTrainLog\\2019-07-11--19_45_04.\n",
      "Created an ensemble of 5 neural networks with variance predictions.\n"
     ]
    },
    {
     "name": "stderr",
     "output_type": "stream",
     "text": [
      "W0718 21:55:45.095137  3728 deprecation_wrapper.py:119] From C:\\Users\\nikki\\OneDrive\\Research\\Continuous RL\\BAIR Handful of Trails Probabilistic Dynamics\\handful-of-trials\\dmbrl\\config\\cartpole.py:86: The name tf.train.AdamOptimizer is deprecated. Please use tf.compat.v1.train.AdamOptimizer instead.\n",
      "\n",
      "W0718 21:55:45.097138  3728 deprecation_wrapper.py:119] From C:\\Users\\nikki\\OneDrive\\Research\\Continuous RL\\BAIR Handful of Trails Probabilistic Dynamics\\handful-of-trials\\dmbrl\\modeling\\models\\BNN.py:157: The name tf.variable_scope is deprecated. Please use tf.compat.v1.variable_scope instead.\n",
      "\n",
      "W0718 21:55:45.099137  3728 deprecation_wrapper.py:119] From C:\\Users\\nikki\\OneDrive\\Research\\Continuous RL\\BAIR Handful of Trails Probabilistic Dynamics\\handful-of-trials\\dmbrl\\modeling\\utils\\TensorStandardScaler.py:22: The name tf.get_variable is deprecated. Please use tf.compat.v1.get_variable instead.\n",
      "\n",
      "W0718 21:55:45.819187  3728 deprecation.py:323] From C:\\Users\\nikki\\OneDrive\\Research\\Continuous RL\\BAIR Handful of Trails Probabilistic Dynamics\\handful-of-trials\\dmbrl\\modeling\\models\\BNN.py:213: Variable.load (from tensorflow.python.ops.variables) is deprecated and will be removed in a future version.\n",
      "Instructions for updating:\n",
      "Prefer Variable.assign which has equivalent behavior in 2.X.\n",
      "W0718 21:55:46.031180  3728 deprecation.py:323] From C:\\Users\\nikki\\OneDrive\\Research\\Continuous RL\\BAIR Handful of Trails Probabilistic Dynamics\\handful-of-trials\\dmbrl\\controllers\\MPC.py:299: add_dispatch_support.<locals>.wrapper (from tensorflow.python.ops.array_ops) is deprecated and will be removed in a future version.\n",
      "Instructions for updating:\n",
      "Use tf.where in 2.0, which has the same broadcast rule as np.where\n"
     ]
    },
    {
     "name": "stdout",
     "output_type": "stream",
     "text": [
      "Created an MPC controller, prop mode TSinf, 20 particles. \n",
      "Trajectory prediction logging is disabled.\n",
      "####################################################################\n",
      "Starting training iteration 1.\n"
     ]
    },
    {
     "ename": "AttributeError",
     "evalue": "'NoneType' object has no attribute 'capture_frame'",
     "output_type": "error",
     "traceback": [
      "\u001b[1;31m---------------------------------------------------------------------------\u001b[0m",
      "\u001b[1;31mAttributeError\u001b[0m                            Traceback (most recent call last)",
      "\u001b[1;32m<ipython-input-5-38c3d964960c>\u001b[0m in \u001b[0;36m<module>\u001b[1;34m\u001b[0m\n\u001b[1;32m----> 1\u001b[1;33m \u001b[0mmain\u001b[0m\u001b[1;33m(\u001b[0m\u001b[0margs\u001b[0m\u001b[1;33m.\u001b[0m\u001b[0menv\u001b[0m\u001b[1;33m,\u001b[0m \u001b[1;34m\"MPC\"\u001b[0m\u001b[1;33m,\u001b[0m \u001b[0margs\u001b[0m\u001b[1;33m.\u001b[0m\u001b[0mctrl_arg\u001b[0m\u001b[1;33m,\u001b[0m \u001b[0margs\u001b[0m\u001b[1;33m.\u001b[0m\u001b[0moverride\u001b[0m\u001b[1;33m,\u001b[0m \u001b[0margs\u001b[0m\u001b[1;33m.\u001b[0m\u001b[0mmodel_dir\u001b[0m\u001b[1;33m,\u001b[0m \u001b[0margs\u001b[0m\u001b[1;33m.\u001b[0m\u001b[0mlogdir\u001b[0m\u001b[1;33m)\u001b[0m\u001b[1;33m\u001b[0m\u001b[1;33m\u001b[0m\u001b[0m\n\u001b[0m",
      "\u001b[1;32m<ipython-input-3-67ebc12c3c43>\u001b[0m in \u001b[0;36mmain\u001b[1;34m(env, ctrl_type, ctrl_args, overrides, model_dir, logdir)\u001b[0m\n\u001b[0;32m     20\u001b[0m         \u001b[0mf\u001b[0m\u001b[1;33m.\u001b[0m\u001b[0mwrite\u001b[0m\u001b[1;33m(\u001b[0m\u001b[0mpprint\u001b[0m\u001b[1;33m.\u001b[0m\u001b[0mpformat\u001b[0m\u001b[1;33m(\u001b[0m\u001b[0mcfg\u001b[0m\u001b[1;33m.\u001b[0m\u001b[0mtoDict\u001b[0m\u001b[1;33m(\u001b[0m\u001b[1;33m)\u001b[0m\u001b[1;33m)\u001b[0m\u001b[1;33m)\u001b[0m\u001b[1;33m\u001b[0m\u001b[1;33m\u001b[0m\u001b[0m\n\u001b[0;32m     21\u001b[0m \u001b[1;33m\u001b[0m\u001b[0m\n\u001b[1;32m---> 22\u001b[1;33m     \u001b[0mexp\u001b[0m\u001b[1;33m.\u001b[0m\u001b[0mrun_experiment\u001b[0m\u001b[1;33m(\u001b[0m\u001b[1;33m)\u001b[0m\u001b[1;33m\u001b[0m\u001b[1;33m\u001b[0m\u001b[0m\n\u001b[0m",
      "\u001b[1;32m~\\OneDrive\\Research\\Continuous RL\\BAIR Handful of Trails Probabilistic Dynamics\\handful-of-trials\\dmbrl\\misc\\MBExp.py\u001b[0m in \u001b[0;36mrun_experiment\u001b[1;34m(self)\u001b[0m\n\u001b[0;32m    110\u001b[0m                     self.agent.sample(\n\u001b[0;32m    111\u001b[0m                         \u001b[0mself\u001b[0m\u001b[1;33m.\u001b[0m\u001b[0mtask_hor\u001b[0m\u001b[1;33m,\u001b[0m \u001b[0mself\u001b[0m\u001b[1;33m.\u001b[0m\u001b[0mpolicy\u001b[0m\u001b[1;33m,\u001b[0m\u001b[1;33m\u001b[0m\u001b[1;33m\u001b[0m\u001b[0m\n\u001b[1;32m--> 112\u001b[1;33m                         \u001b[0mos\u001b[0m\u001b[1;33m.\u001b[0m\u001b[0mpath\u001b[0m\u001b[1;33m.\u001b[0m\u001b[0mjoin\u001b[0m\u001b[1;33m(\u001b[0m\u001b[0miter_dir\u001b[0m\u001b[1;33m,\u001b[0m \u001b[1;34m\"rollout%d.mp4\"\u001b[0m \u001b[1;33m%\u001b[0m \u001b[0mj\u001b[0m\u001b[1;33m)\u001b[0m\u001b[1;33m\u001b[0m\u001b[1;33m\u001b[0m\u001b[0m\n\u001b[0m\u001b[0;32m    113\u001b[0m                     )\n\u001b[0;32m    114\u001b[0m                 )\n",
      "\u001b[1;32m~\\OneDrive\\Research\\Continuous RL\\BAIR Handful of Trails Probabilistic Dynamics\\handful-of-trials\\dmbrl\\misc\\Agent.py\u001b[0m in \u001b[0;36msample\u001b[1;34m(self, horizon, policy, record_fname)\u001b[0m\n\u001b[0;32m     57\u001b[0m         \u001b[1;32mfor\u001b[0m \u001b[0mt\u001b[0m \u001b[1;32min\u001b[0m \u001b[0mrange\u001b[0m\u001b[1;33m(\u001b[0m\u001b[0mhorizon\u001b[0m\u001b[1;33m)\u001b[0m\u001b[1;33m:\u001b[0m\u001b[1;33m\u001b[0m\u001b[1;33m\u001b[0m\u001b[0m\n\u001b[0;32m     58\u001b[0m             \u001b[1;32mif\u001b[0m \u001b[0mvideo_record\u001b[0m\u001b[1;33m:\u001b[0m\u001b[1;33m\u001b[0m\u001b[1;33m\u001b[0m\u001b[0m\n\u001b[1;32m---> 59\u001b[1;33m                 \u001b[0mrecorder\u001b[0m\u001b[1;33m.\u001b[0m\u001b[0mcapture_frame\u001b[0m\u001b[1;33m(\u001b[0m\u001b[1;33m)\u001b[0m\u001b[1;33m\u001b[0m\u001b[1;33m\u001b[0m\u001b[0m\n\u001b[0m\u001b[0;32m     60\u001b[0m             \u001b[0mstart\u001b[0m \u001b[1;33m=\u001b[0m \u001b[0mtime\u001b[0m\u001b[1;33m.\u001b[0m\u001b[0mtime\u001b[0m\u001b[1;33m(\u001b[0m\u001b[1;33m)\u001b[0m\u001b[1;33m\u001b[0m\u001b[1;33m\u001b[0m\u001b[0m\n\u001b[0;32m     61\u001b[0m             \u001b[0mA\u001b[0m\u001b[1;33m.\u001b[0m\u001b[0mappend\u001b[0m\u001b[1;33m(\u001b[0m\u001b[0mpolicy\u001b[0m\u001b[1;33m.\u001b[0m\u001b[0mact\u001b[0m\u001b[1;33m(\u001b[0m\u001b[0mO\u001b[0m\u001b[1;33m[\u001b[0m\u001b[0mt\u001b[0m\u001b[1;33m]\u001b[0m\u001b[1;33m,\u001b[0m \u001b[0mt\u001b[0m\u001b[1;33m)\u001b[0m\u001b[1;33m)\u001b[0m\u001b[1;33m\u001b[0m\u001b[1;33m\u001b[0m\u001b[0m\n",
      "\u001b[1;31mAttributeError\u001b[0m: 'NoneType' object has no attribute 'capture_frame'"
     ]
    }
   ],
   "source": [
    "main(args.env, \"MPC\", args.ctrl_arg, args.override, args.model_dir, args.logdir)"
   ]
  }
 ],
 "metadata": {
  "kernelspec": {
   "display_name": "Python 3",
   "language": "python",
   "name": "python3"
  },
  "language_info": {
   "codemirror_mode": {
    "name": "ipython",
    "version": 3
   },
   "file_extension": ".py",
   "mimetype": "text/x-python",
   "name": "python",
   "nbconvert_exporter": "python",
   "pygments_lexer": "ipython3",
   "version": "3.6.8"
  }
 },
 "nbformat": 4,
 "nbformat_minor": 2
}
