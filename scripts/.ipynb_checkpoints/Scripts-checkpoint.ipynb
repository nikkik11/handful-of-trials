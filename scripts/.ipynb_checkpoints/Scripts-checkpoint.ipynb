{
 "cells": [
  {
   "cell_type": "code",
   "execution_count": 5,
   "metadata": {},
   "outputs": [],
   "source": [
    "from __future__ import division\n",
    "from __future__ import print_function\n",
    "from __future__ import absolute_import\n",
    "\n",
    "import os\n",
    "import argparse\n",
    "import pprint\n",
    "\n",
    "from dotmap import DotMap"
   ]
  },
  {
   "cell_type": "code",
   "execution_count": null,
   "metadata": {},
   "outputs": [],
   "source": [
    "## Modified: Add path to enabling import\n",
    "import sys\n",
    "sys.path.add(\"C:\\Users\\nikki\\OneDrive\\Research\\Continuous RL\\BAIR Handful of Trails Probabilistic Dynamics\\handful-of-trials\\dmbrl\\misc\")\n",
    "\n",
    "from dmbrl.misc.MBExp import MBExperiment\n",
    "from dmbrl.controllers.MPC import MPC\n",
    "from dmbrl.config import create_config"
   ]
  }
 ],
 "metadata": {
  "kernelspec": {
   "display_name": "Python 3",
   "language": "python",
   "name": "python3"
  },
  "language_info": {
   "codemirror_mode": {
    "name": "ipython",
    "version": 3
   },
   "file_extension": ".py",
   "mimetype": "text/x-python",
   "name": "python",
   "nbconvert_exporter": "python",
   "pygments_lexer": "ipython3",
   "version": "3.6.8"
  }
 },
 "nbformat": 4,
 "nbformat_minor": 2
}
